{
 "cells": [
  {
   "cell_type": "markdown",
   "id": "eb5279eb",
   "metadata": {},
   "source": [
    "### Project Overview\n",
    "This project is designed to help Butali Sugar mills Limited manage it`s fleet effectively. The project is developed with the transport department of the said comapny in mind. The comapny has several vehicles that are being managed by the transport department. For the smooth running of the company processes, every department needs to work optimally, transport department included. The project aims at making sure the fleets are utilised in a manner that serves their purpose effectively.\n",
    "\n",
    "### Problem Statement \n",
    "The comapny having a huge fleet, makes it hard to handle and manage them cassually. There needs to be a system that helps to manage the same. The project at hand aims to adress some of the challenges that the department could otherwise face on fleet management. The project aims to do the following. \n",
    "1.  Monitor Fuel, maintainance and Insurance expenses for the fleets. This helps us to determine the units that are prooving expensive  to own\n",
    "2.  Monitor fuel effieciency, Vehicle downtime and maintainace frequencies. This is critical for pinpointing units that are less efficient.\n",
    "3.  Assess the quality of maintaince products from different suppliers. Spare parts of good quality are more durable and therefore we aim to identify which suppliers and parts are to be ordered."
   ]
  },
  {
   "cell_type": "markdown",
   "id": "aef702e2",
   "metadata": {},
   "source": [
    "### Data undesrstanding.\n",
    "The data for this project has been obtained from the internet sources and is stores in a CSV format. Since this is a mock data obtained from chatGPT, it is not to be used to interpret the real situation on the ground. After loading and exploring the data in the notebook, we are able to know it`s peoperties. The data has 1791 rows and 8 columns . The datatypes present are *object* often used to represent categorical variables and a *float64* which shows numerical values."
   ]
  },
  {
   "cell_type": "code",
   "execution_count": 2,
   "id": "beed149b",
   "metadata": {},
   "outputs": [],
   "source": [
    "#Import the necessary libraries\n",
    "import pandas as pd\n"
   ]
  },
  {
   "cell_type": "code",
   "execution_count": 3,
   "id": "aba1aca6",
   "metadata": {},
   "outputs": [
    {
     "data": {
      "text/html": [
       "<div>\n",
       "<style scoped>\n",
       "    .dataframe tbody tr th:only-of-type {\n",
       "        vertical-align: middle;\n",
       "    }\n",
       "\n",
       "    .dataframe tbody tr th {\n",
       "        vertical-align: top;\n",
       "    }\n",
       "\n",
       "    .dataframe thead th {\n",
       "        text-align: right;\n",
       "    }\n",
       "</style>\n",
       "<table border=\"1\" class=\"dataframe\">\n",
       "  <thead>\n",
       "    <tr style=\"text-align: right;\">\n",
       "      <th></th>\n",
       "      <th>Number_Plate</th>\n",
       "      <th>Vehicle_Type</th>\n",
       "      <th>Part_Name</th>\n",
       "      <th>Category</th>\n",
       "      <th>Supplier</th>\n",
       "      <th>Purchase_Cost</th>\n",
       "      <th>Service_Date</th>\n",
       "      <th>Issue_Reported</th>\n",
       "    </tr>\n",
       "  </thead>\n",
       "  <tbody>\n",
       "    <tr>\n",
       "      <th>0</th>\n",
       "      <td>KCN 625C</td>\n",
       "      <td>Tractor</td>\n",
       "      <td>Battery</td>\n",
       "      <td>Electrical</td>\n",
       "      <td>Aeolus</td>\n",
       "      <td>4800.89</td>\n",
       "      <td>2024-08-12</td>\n",
       "      <td>Battery issue</td>\n",
       "    </tr>\n",
       "    <tr>\n",
       "      <th>1</th>\n",
       "      <td>KCN 625C</td>\n",
       "      <td>Tractor</td>\n",
       "      <td>Radiator</td>\n",
       "      <td>Cooling System</td>\n",
       "      <td>MechWorks</td>\n",
       "      <td>3507.80</td>\n",
       "      <td>2024-09-21</td>\n",
       "      <td>Oil leak</td>\n",
       "    </tr>\n",
       "    <tr>\n",
       "      <th>2</th>\n",
       "      <td>KCN 625C</td>\n",
       "      <td>Tractor</td>\n",
       "      <td>Radiator</td>\n",
       "      <td>Cooling System</td>\n",
       "      <td>PartsPlus</td>\n",
       "      <td>9258.37</td>\n",
       "      <td>2025-05-11</td>\n",
       "      <td>Electrical fault</td>\n",
       "    </tr>\n",
       "    <tr>\n",
       "      <th>3</th>\n",
       "      <td>KCN 625C</td>\n",
       "      <td>Tractor</td>\n",
       "      <td>Fuel Pump</td>\n",
       "      <td>Fuel System</td>\n",
       "      <td>PartsPlus</td>\n",
       "      <td>1842.43</td>\n",
       "      <td>2024-09-25</td>\n",
       "      <td>Hydraulic issue</td>\n",
       "    </tr>\n",
       "    <tr>\n",
       "      <th>4</th>\n",
       "      <td>KDA 106P</td>\n",
       "      <td>Tractor</td>\n",
       "      <td>Radiator</td>\n",
       "      <td>Cooling System</td>\n",
       "      <td>PowerAuto</td>\n",
       "      <td>10222.35</td>\n",
       "      <td>2025-03-27</td>\n",
       "      <td>Brake failure</td>\n",
       "    </tr>\n",
       "  </tbody>\n",
       "</table>\n",
       "</div>"
      ],
      "text/plain": [
       "  Number_Plate Vehicle_Type  Part_Name        Category   Supplier  \\\n",
       "0     KCN 625C      Tractor    Battery      Electrical     Aeolus   \n",
       "1     KCN 625C      Tractor   Radiator  Cooling System  MechWorks   \n",
       "2     KCN 625C      Tractor   Radiator  Cooling System  PartsPlus   \n",
       "3     KCN 625C      Tractor  Fuel Pump     Fuel System  PartsPlus   \n",
       "4     KDA 106P      Tractor   Radiator  Cooling System  PowerAuto   \n",
       "\n",
       "   Purchase_Cost Service_Date    Issue_Reported  \n",
       "0        4800.89   2024-08-12     Battery issue  \n",
       "1        3507.80   2024-09-21          Oil leak  \n",
       "2        9258.37   2025-05-11  Electrical fault  \n",
       "3        1842.43   2024-09-25   Hydraulic issue  \n",
       "4       10222.35   2025-03-27     Brake failure  "
      ]
     },
     "execution_count": 3,
     "metadata": {},
     "output_type": "execute_result"
    }
   ],
   "source": [
    "\n",
    "#Load data into the Notebook\n",
    "df= pd.read_csv('fleet_operations_dataset_v2.csv')\n",
    "df.head()"
   ]
  },
  {
   "cell_type": "code",
   "execution_count": 4,
   "id": "92df9c94",
   "metadata": {},
   "outputs": [
    {
     "data": {
      "text/plain": [
       "(1791, 8)"
      ]
     },
     "execution_count": 4,
     "metadata": {},
     "output_type": "execute_result"
    }
   ],
   "source": [
    "#Check shape of the data\n",
    "df.shape"
   ]
  },
  {
   "cell_type": "code",
   "execution_count": 6,
   "id": "a1b8d5b6",
   "metadata": {},
   "outputs": [
    {
     "data": {
      "text/plain": [
       "Number_Plate       object\n",
       "Vehicle_Type       object\n",
       "Part_Name          object\n",
       "Category           object\n",
       "Supplier           object\n",
       "Purchase_Cost     float64\n",
       "Service_Date       object\n",
       "Issue_Reported     object\n",
       "dtype: object"
      ]
     },
     "execution_count": 6,
     "metadata": {},
     "output_type": "execute_result"
    }
   ],
   "source": [
    "# Check the data types present\n",
    "df.dtypes"
   ]
  },
  {
   "cell_type": "code",
   "execution_count": 8,
   "id": "f393df6b",
   "metadata": {},
   "outputs": [
    {
     "name": "stdout",
     "output_type": "stream",
     "text": [
      "<class 'pandas.core.frame.DataFrame'>\n",
      "RangeIndex: 1791 entries, 0 to 1790\n",
      "Data columns (total 8 columns):\n",
      " #   Column          Non-Null Count  Dtype  \n",
      "---  ------          --------------  -----  \n",
      " 0   Number_Plate    1791 non-null   object \n",
      " 1   Vehicle_Type    1791 non-null   object \n",
      " 2   Part_Name       1791 non-null   object \n",
      " 3   Category        1791 non-null   object \n",
      " 4   Supplier        1791 non-null   object \n",
      " 5   Purchase_Cost   1791 non-null   float64\n",
      " 6   Service_Date    1791 non-null   object \n",
      " 7   Issue_Reported  1791 non-null   object \n",
      "dtypes: float64(1), object(7)\n",
      "memory usage: 112.1+ KB\n"
     ]
    }
   ],
   "source": [
    "# Check the overall infomation of the dataest\n",
    "df.info()"
   ]
  },
  {
   "cell_type": "markdown",
   "id": "9bd04105",
   "metadata": {},
   "source": [
    "\n",
    "### Data cleaning\n",
    "Data often is not reday for analysis in it`s raw form and therefore we need to clean it first. In this section we check for null values and either drop them or fill in with appropriate values such as **mode , mean or median**. We also check for duplicates and drop them to be able to get accrate insights when we proceed with analysis. From our code below, we see that we do have any missing values and no duplicates. Our data therefore is ready for the next step."
   ]
  },
  {
   "cell_type": "code",
   "execution_count": 10,
   "id": "f62f8518",
   "metadata": {},
   "outputs": [
    {
     "data": {
      "text/plain": [
       "Number_Plate      0\n",
       "Vehicle_Type      0\n",
       "Part_Name         0\n",
       "Category          0\n",
       "Supplier          0\n",
       "Purchase_Cost     0\n",
       "Service_Date      0\n",
       "Issue_Reported    0\n",
       "dtype: int64"
      ]
     },
     "execution_count": 10,
     "metadata": {},
     "output_type": "execute_result"
    }
   ],
   "source": [
    "# Check for missing values\n",
    "df.isnull().sum()"
   ]
  },
  {
   "cell_type": "code",
   "execution_count": 12,
   "id": "01df63aa",
   "metadata": {},
   "outputs": [
    {
     "data": {
      "text/plain": [
       "0"
      ]
     },
     "execution_count": 12,
     "metadata": {},
     "output_type": "execute_result"
    }
   ],
   "source": [
    "# Check for duplicates\n",
    "df.duplicated().sum()"
   ]
  },
  {
   "cell_type": "code",
   "execution_count": null,
   "id": "10f1d23a",
   "metadata": {},
   "outputs": [],
   "source": []
  }
 ],
 "metadata": {
  "kernelspec": {
   "display_name": "learn-env",
   "language": "python",
   "name": "python3"
  },
  "language_info": {
   "codemirror_mode": {
    "name": "ipython",
    "version": 3
   },
   "file_extension": ".py",
   "mimetype": "text/x-python",
   "name": "python",
   "nbconvert_exporter": "python",
   "pygments_lexer": "ipython3",
   "version": "3.8.5"
  }
 },
 "nbformat": 4,
 "nbformat_minor": 5
}
